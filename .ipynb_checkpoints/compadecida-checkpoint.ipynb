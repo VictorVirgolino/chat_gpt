{
 "cells": [
  {
   "cell_type": "code",
   "execution_count": null,
   "id": "92a82ec3-e840-4dc5-ba70-c3380592d742",
   "metadata": {},
   "outputs": [],
   "source": [
    "# treinar um modelo usando como base o livro do auto da compadecida\n",
    "with open('books/auto_da_compadecida.txt', 'r', encoding='utf-8') as f:\n",
    "    text = f.read()\n"
   ]
  },
  {
   "cell_type": "code",
   "execution_count": null,
   "id": "c915e942-25f4-41af-a1fe-ebd2508979ee",
   "metadata": {},
   "outputs": [],
   "source": [
    "print(\"Tamanho do datatset(caracteres): \", len(text))"
   ]
  },
  {
   "cell_type": "code",
   "execution_count": null,
   "id": "5624ed27-305b-453e-81ae-2a3437a2b795",
   "metadata": {},
   "outputs": [],
   "source": [
    "#Printa as primeiros 1000 caracteres\n",
    "print(text[:1000])"
   ]
  },
  {
   "cell_type": "code",
   "execution_count": null,
   "id": "a391c39c-34b3-4a10-aee0-428ed1368492",
   "metadata": {},
   "outputs": [],
   "source": [
    "#Pegar o Vocabulario do Texto\n",
    "chars = sorted(list(set(text)))\n",
    "vocab_size = len(chars)\n",
    "print(''.join(chars))print(vocab_size)"
   ]
  },
  {
   "cell_type": "code",
   "execution_count": null,
   "id": "8c13d56a-6295-437d-85e8-e7bc19086e65",
   "metadata": {},
   "outputs": [],
   "source": [
    "print(vocab_size)"
   ]
  },
  {
   "cell_type": "code",
   "execution_count": null,
   "id": "8c51a1c8-5f3f-42ca-a80f-7fc9ac975dc6",
   "metadata": {},
   "outputs": [],
   "source": []
  }
 ],
 "metadata": {
  "kernelspec": {
   "display_name": "cuda-gpt",
   "language": "python",
   "name": "cuda"
  },
  "language_info": {
   "codemirror_mode": {
    "name": "ipython",
    "version": 3
   },
   "file_extension": ".py",
   "mimetype": "text/x-python",
   "name": "python",
   "nbconvert_exporter": "python",
   "pygments_lexer": "ipython3",
   "version": "3.10.8"
  }
 },
 "nbformat": 4,
 "nbformat_minor": 5
}
